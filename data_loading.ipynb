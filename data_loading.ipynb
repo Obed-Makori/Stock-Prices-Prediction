{
 "cells": [
  {
   "cell_type": "code",
   "execution_count": null,
   "metadata": {},
   "outputs": [
    {
     "ename": "",
     "evalue": "",
     "output_type": "error",
     "traceback": [
      "\u001b[1;31mThe Kernel crashed while executing code in the current cell or a previous cell. \n",
      "\u001b[1;31mPlease review the code in the cell(s) to identify a possible cause of the failure. \n",
      "\u001b[1;31mClick <a href='https://aka.ms/vscodeJupyterKernelCrash'>here</a> for more info. \n",
      "\u001b[1;31mView Jupyter <a href='command:jupyter.viewOutput'>log</a> for further details."
     ]
    }
   ],
   "source": [
    "import pandas as pd\n",
    "import psycopg2\n",
    "import os\n",
    "\n",
    "# PostgreSQL connection details\n",
    "db_params = {\n",
    "    'database': 'stock_data',  \n",
    "    'user': 'postgres',         \n",
    "    'password': 'Bigdata@2024', \n",
    "    'host': 'localhost',        \n",
    "    'port': '5432'              \n",
    "}\n",
    "# Connecting to PostgreSQL\n",
    "conn = psycopg2.connect(**db_params)\n",
    "cursor = conn.cursor()\n",
    "\n",
    "# path to CSV files\n",
    "path_to_csv = r'C:\\Users\\ADMIN\\Desktop\\PROJECTS\\stock-tweet-and-price\\stock-tweet-and-price\\stockprice'\n",
    "\n",
    "# Looping through each CSV file\n",
    "for filename in os.listdir(path_to_csv):\n",
    "    if filename.endswith('.csv'):\n",
    "        # company name from the filename\n",
    "        company_name = filename[:-4]  \n",
    "        ticker = company_name.upper() \n",
    "\n",
    "        # Read the CSV file\n",
    "        file_path = os.path.join(path_to_csv, filename)\n",
    "        df = pd.read_csv(file_path)\n",
    "\n",
    "        # Add the ticker column to the DataFrame\n",
    "        df['ticker'] = ticker\n",
    "\n",
    "        # Insert data into the SQL table\n",
    "        for index, row in df.iterrows():\n",
    "            cursor.execute(\n",
    "                \"\"\"\n",
    "                INSERT INTO stock_prices (date, open, high, low, close, adj_close, volume, ticker)\n",
    "                VALUES (%s, %s, %s, %s, %s, %s, %s, %s)\n",
    "                \"\"\",\n",
    "                (row['Date'], row['Open'], row['High'], row['Low'], row['Close'], row['Adj Close'], row['Volume'], ticker)\n",
    "            )\n",
    "\n",
    "# Commit changes and close the connection\n",
    "conn.commit()\n",
    "cursor.close()\n",
    "conn.close()\n",
    "\n",
    "print(\"stock dataset has been inserted successfully.\")\n"
   ]
  }
 ],
 "metadata": {
  "kernelspec": {
   "display_name": "base",
   "language": "python",
   "name": "python3"
  },
  "language_info": {
   "codemirror_mode": {
    "name": "ipython",
    "version": 3
   },
   "file_extension": ".py",
   "mimetype": "text/x-python",
   "name": "python",
   "nbconvert_exporter": "python",
   "pygments_lexer": "ipython3",
   "version": "3.11.5"
  }
 },
 "nbformat": 4,
 "nbformat_minor": 2
}
